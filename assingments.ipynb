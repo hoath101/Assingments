{
  "nbformat": 4,
  "nbformat_minor": 0,
  "metadata": {
    "colab": {
      "provenance": [],
      "authorship_tag": "ABX9TyP+TolhovV4oJ8Ej3yeXDBH",
      "include_colab_link": true
    },
    "kernelspec": {
      "name": "python3",
      "display_name": "Python 3"
    },
    "language_info": {
      "name": "python"
    }
  },
  "cells": [
    {
      "cell_type": "markdown",
      "metadata": {
        "id": "view-in-github",
        "colab_type": "text"
      },
      "source": [
        "<a href=\"https://colab.research.google.com/github/hoath101/Assingments/blob/master/assingments.ipynb\" target=\"_parent\"><img src=\"https://colab.research.google.com/assets/colab-badge.svg\" alt=\"Open In Colab\"/></a>"
      ]
    },
    {
      "cell_type": "code",
      "execution_count": null,
      "metadata": {
        "id": "pg6BOILW_Jyh"
      },
      "outputs": [],
      "source": []
    },
    {
      "cell_type": "markdown",
      "source": [
        "# Mad libs Python Projects"
      ],
      "metadata": {
        "id": "Gvyy1qYf_420"
      }
    },
    {
      "cell_type": "code",
      "source": [
        "adj = input(\"Adjective:\")\n",
        "verb1 = input(\"Verb:\")\n",
        "verb2 = input(\"Verb:\")\n",
        "famous_person = input(\"Famous person:\")\n",
        "\n",
        "madlib = f'Computer programing is so {adj}! It makes me so excited all the time because \\\n",
        "i love to {verb1}.Stay hydrated and {verb2} like you are {famous_person}.'\n",
        "print(madlib)"
      ],
      "metadata": {
        "id": "7w4VWL84AAu_"
      },
      "execution_count": null,
      "outputs": []
    },
    {
      "cell_type": "markdown",
      "source": [
        "Number Guessing game Computer.\n"
      ],
      "metadata": {
        "id": "oQQ4a4pxD8pq"
      }
    },
    {
      "cell_type": "code",
      "source": [
        "import random\n",
        "\n",
        "def guess(x):\n",
        "  random_number = random.randint(1, x)\n",
        "  guess = 0\n",
        "  while guess != random_number:\n",
        "    guess = int(input(f\"Guess a number betwen 1 to {x}:\"))\n",
        "    if guess < random_number:\n",
        "      print('Sorry, guess again.Too low.')\n",
        "    elif guess > random_number:\n",
        "      print(\"Sorry, guess again.Too high.\")\n",
        "\n",
        "  print(f\"Yay, congrats.You have guessed the number {random_number} correctly!\")\n",
        "\n",
        "guess(50)\n"
      ],
      "metadata": {
        "id": "qZzMuthyEII0"
      },
      "execution_count": null,
      "outputs": []
    },
    {
      "cell_type": "markdown",
      "source": [
        "Guess the number game User."
      ],
      "metadata": {
        "id": "jRllyrAzJq2b"
      }
    },
    {
      "cell_type": "code",
      "source": [
        "import random\n",
        "\n",
        "def computer_guess(x):\n",
        "  low = 1\n",
        "  high = x\n",
        "  feedback = \"\"\n",
        "  while feedback != 'c':\n",
        "    if low != high:\n",
        "      guess = random.randint(low, high)\n",
        "    else:\n",
        "      guess = low  # could also be high b/c low = high\n",
        "    feedback = input(f'Is {guess} too high (H), too low (L) or correct (C)??').lower()\n",
        "    if feedback == 'h':\n",
        "      high = guess - 1\n",
        "    elif feedback == 'l':\n",
        "      low = guess + 1\n",
        "\n",
        "  print(f'Yay! The computer guessed your number, {guess}, correctly!')\n",
        "\n",
        "computer_guess(100)\n"
      ],
      "metadata": {
        "id": "yJTtTYQTJ75y"
      },
      "execution_count": null,
      "outputs": []
    },
    {
      "cell_type": "markdown",
      "source": [
        "Rock Paper Scissors"
      ],
      "metadata": {
        "id": "CkkDCWkwNYFP"
      }
    },
    {
      "cell_type": "code",
      "source": [
        "import random\n",
        "\n",
        "def play():\n",
        "  user = input(\"What's yor choice? 'r' for rock, 'p' for paper, 's' for scissors\\n\")\n",
        "  computer = random.choice(['r','p','s'])\n",
        "\n",
        "  if user == computer:\n",
        "    return \"It's a tie\"\n",
        "\n",
        "  if is_win(user, computer):\n",
        "    return 'You won'\n",
        "\n",
        "  return 'You lost'\n",
        "\n",
        "def is_win(player, opponent):\n",
        "  if (player == 'r' and opponent == 's') or (player == 's' and opponent == 'p') \\\n",
        "  or (player == 'p' and opponent == 'r'):\n",
        "    return True\n",
        "\n",
        "print(play())"
      ],
      "metadata": {
        "id": "2PMMATCPNfo9"
      },
      "execution_count": null,
      "outputs": []
    },
    {
      "cell_type": "markdown",
      "source": [
        "Countdown timer\n"
      ],
      "metadata": {
        "id": "p9qE6AzZvVh-"
      }
    },
    {
      "cell_type": "code",
      "source": [
        "import time\n",
        "\n",
        "def countdown(t):\n",
        "  while t:\n",
        "    mins, secs = divmod(t, 60)\n",
        "    timer = '{:02d}:{:02d}'.format(mins, secs)\n",
        "    print(timer, end ='\\r')\n",
        "    time.sleep(1)\n",
        "    t -= 1\n",
        "\n",
        "  print('Timer completed')\n",
        "\n",
        "t = input('Enter the time in seconds:')\n",
        "\n",
        "\n",
        "countdown(int(t))"
      ],
      "metadata": {
        "id": "oBfPNTrvvaKv"
      },
      "execution_count": null,
      "outputs": []
    },
    {
      "cell_type": "markdown",
      "source": [
        "Password generator"
      ],
      "metadata": {
        "id": "7vZk7hjvEQrO"
      }
    },
    {
      "cell_type": "code",
      "source": [
        "import random\n",
        "\n",
        "chars = 'abcdefhijklmnopqrstuvwxyzABCDEFGHIJKLMNOPQRSTUVWXYZ!@$#%&1234567890'\n",
        "\n",
        "number = int(input('Enter the amount of password:'))\n",
        "length = int(input('Enter the length of password:'))\n",
        "\n",
        "print('\\n Here are your passwords:')\n",
        "\n",
        "for pwd in range(number):\n",
        "  passwords = ''\n",
        "  for c in range(length):\n",
        "    passwords += random.choice(chars)\n",
        "  print(passwords)"
      ],
      "metadata": {
        "id": "GGdvlhUOEYYD"
      },
      "execution_count": null,
      "outputs": []
    }
  ]
}